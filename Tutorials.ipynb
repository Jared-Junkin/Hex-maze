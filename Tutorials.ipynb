{
 "cells": [
  {
   "cell_type": "code",
   "execution_count": null,
   "id": "cb2aa5e1",
   "metadata": {},
   "outputs": [],
   "source": [
    "# Given a barrier set, get a list of potential next barrier sets\n",
    "original_barriers  = df['barriers'][3]\n",
    "print(\"Original barrier set:\", original_barriers, \"\\n\")\n",
    "plot_hex_maze(original_barriers)\n",
    "\n",
    "next_barriers = get_next_barrier_set(df, original_barriers)\n",
    "for b in next_barriers:\n",
    "    print(\"Potential next barriers:\", b, \"\\n\")\n",
    "    plot_hex_maze(b)"
   ]
  },
  {
   "cell_type": "code",
   "execution_count": null,
   "id": "c1e4bb1d",
   "metadata": {},
   "outputs": [],
   "source": [
    "# Given a barrier set, we can rotate it or reflect it \n",
    "orig_barriers  = df['barriers'][2]\n",
    "print(\"Original barrier set:\", orig_barriers, \"\\n\")\n",
    "\n",
    "rotated_barriers_ccw = get_rotated_barriers(orig_barriers)\n",
    "print(\"Rotated barrier set (ccw):\", rotated_barriers_ccw, \"\\n\")\n",
    "\n",
    "rotated_barriers_cw = get_rotated_barriers(orig_barriers, direction='clockwise')\n",
    "print(\"Rotated barrier set (cw):\", rotated_barriers_cw, \"\\n\")\n",
    "\n",
    "reflected_barriers_1 = get_reflected_barriers(orig_barriers, axis=1)\n",
    "print(\"Reflected barrier set (ax1):\", reflected_barriers_1, \"\\n\")\n",
    "\n",
    "reflected_barriers_2 = get_reflected_barriers(orig_barriers, axis=2)\n",
    "print(\"Reflected barrier set (ax2):\", reflected_barriers_2, \"\\n\")\n",
    "\n",
    "reflected_barriers_3 = get_reflected_barriers(orig_barriers, axis=3)\n",
    "print(\"Reflected barrier set (ax3):\", reflected_barriers_3, \"\\n\")\n",
    "\n",
    "# We can also get a list of the other barrier sets that are isomorphic (all possible rotations and reflections)\n",
    "orig_barriers  = df['barriers'][2]\n",
    "print(\"Original barriers:\", orig_barriers)\n",
    "iso_barriers = get_isomorphic_mazes(orig_barriers)\n",
    "print(\"Isomorphic barriers:\", iso_barriers)"
   ]
  }
 ],
 "metadata": {
  "kernelspec": {
   "display_name": "Python 3 (ipykernel)",
   "language": "python",
   "name": "python3"
  },
  "language_info": {
   "codemirror_mode": {
    "name": "ipython",
    "version": 3
   },
   "file_extension": ".py",
   "mimetype": "text/x-python",
   "name": "python",
   "nbconvert_exporter": "python",
   "pygments_lexer": "ipython3",
   "version": "3.11.5"
  }
 },
 "nbformat": 4,
 "nbformat_minor": 5
}
